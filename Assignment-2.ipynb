{
 "cells": [
  {
   "cell_type": "markdown",
   "id": "4208037b",
   "metadata": {},
   "source": [
    "### Question 1. What is the value of spam[int(int('3' * 2) / 11)]?\n"
   ]
  },
  {
   "cell_type": "markdown",
   "id": "d4de8b50",
   "metadata": {},
   "source": [
    "The value of int('3'*2)is 33 by int it is typecasted into integer as, you see in the below code. Than the 33 is divided by 11 the answer is spam[3]"
   ]
  },
  {
   "cell_type": "code",
   "execution_count": 8,
   "id": "bfa908e2",
   "metadata": {},
   "outputs": [
    {
     "name": "stdout",
     "output_type": "stream",
     "text": [
      "3\n"
     ]
    },
    {
     "data": {
      "text/plain": [
       "int"
      ]
     },
     "execution_count": 8,
     "metadata": {},
     "output_type": "execute_result"
    }
   ],
   "source": [
    "a= int(int('3'*2)/11)\n",
    "print(a)\n",
    "type(a)"
   ]
  },
  {
   "cell_type": "markdown",
   "id": "efaaf726",
   "metadata": {},
   "source": [
    "### Question 2. What is the value of spam[-1]? "
   ]
  },
  {
   "cell_type": "markdown",
   "id": "bb3efc74",
   "metadata": {},
   "source": [
    " The value of spam[-1] is depend on the content of the spam list, it returns last item in the list"
   ]
  },
  {
   "cell_type": "code",
   "execution_count": 15,
   "id": "77a82647",
   "metadata": {},
   "outputs": [
    {
     "name": "stdout",
     "output_type": "stream",
     "text": [
      "4\n"
     ]
    }
   ],
   "source": [
    "spam = ['cat','tom',2,4,]\n",
    "print(spam[-1])"
   ]
  },
  {
   "cell_type": "markdown",
   "id": "23d2042d",
   "metadata": {},
   "source": [
    "### Question 3. What is the value of spam[:2]? "
   ]
  },
  {
   "cell_type": "code",
   "execution_count": 22,
   "id": "3367e93a",
   "metadata": {},
   "outputs": [
    {
     "name": "stdout",
     "output_type": "stream",
     "text": [
      "['cat', 'tom', 2, 4]\n"
     ]
    }
   ],
   "source": [
    "spam = ['cat','tom',2,4,]\n",
    "print(spam[:4])  #as it show 1st 2 items"
   ]
  },
  {
   "cell_type": "markdown",
   "id": "77a75171",
   "metadata": {},
   "source": [
    "### Question 4. Let's pretend bacon has the list [3.14, 'cat,' 11, 'cat,' True] for the next three questions."
   ]
  },
  {
   "cell_type": "code",
   "execution_count": 26,
   "id": "5178dab7",
   "metadata": {},
   "outputs": [
    {
     "name": "stdout",
     "output_type": "stream",
     "text": [
      "[3.14, 'cat', 11, 'cat', True]\n"
     ]
    }
   ],
   "source": [
    "bacon = [3.14, 'cat', 11, 'cat', True]\n",
    "print(bacon)"
   ]
  },
  {
   "cell_type": "markdown",
   "id": "ed331186",
   "metadata": {},
   "source": [
    "\n",
    "### Question 5. What is the value of bacon.index('cat')? "
   ]
  },
  {
   "cell_type": "code",
   "execution_count": 31,
   "id": "30568fc4",
   "metadata": {},
   "outputs": [
    {
     "name": "stdout",
     "output_type": "stream",
     "text": [
      "1\n"
     ]
    }
   ],
   "source": [
    "bacon = [3.14, 'cat', 11, 'cat', True]\n",
    "print(bacon.index('cat'))"
   ]
  },
  {
   "cell_type": "markdown",
   "id": "9fc87483",
   "metadata": {},
   "source": [
    "### Question 6. How does bacon.append(99) change the look of the list value in bacon? Question "
   ]
  },
  {
   "cell_type": "code",
   "execution_count": null,
   "id": "0f91bda4",
   "metadata": {},
   "outputs": [],
   "source": [
    "# bacon = [3.14, 'cat', 11, 'cat', True]\n",
    "bacon.append(99)\n",
    "print(bacon)"
   ]
  },
  {
   "cell_type": "markdown",
   "id": "cc5b2c5a",
   "metadata": {},
   "source": [
    "### Question 7. How does bacon.remove('cat') change the look of the list in bacon?"
   ]
  },
  {
   "cell_type": "code",
   "execution_count": 35,
   "id": "c6265449",
   "metadata": {},
   "outputs": [
    {
     "name": "stdout",
     "output_type": "stream",
     "text": [
      "[3.14, 11, 'cat', True]\n"
     ]
    }
   ],
   "source": [
    "bacon = [3.14, 'cat', 11, 'cat', True]\n",
    "bacon.remove('cat')\n",
    "print(bacon)"
   ]
  },
  {
   "cell_type": "markdown",
   "id": "eb6367c1",
   "metadata": {},
   "source": [
    "### Question 8. What are the list concatenation and list replication operators?"
   ]
  },
  {
   "cell_type": "code",
   "execution_count": null,
   "id": "8e1592c2",
   "metadata": {},
   "outputs": [],
   "source": [
    "The list concatenation operator is the plus sign (+),  [1, 2, 3] + [4, 5, 6] would result in the list [1, 2, 3, 4, 5, 6]. The list replication operator is the asterisk (*) which replicates a list a given number of times. For example, [1, 2, 3] * 3 would result in the list [1, 2, 3, 1, 2, 3, 1, 2, 3]."
   ]
  },
  {
   "cell_type": "code",
   "execution_count": 38,
   "id": "8bf45bac",
   "metadata": {},
   "outputs": [
    {
     "name": "stdout",
     "output_type": "stream",
     "text": [
      "[1, 2, 3, 4, 5, 6, 7, 8, 9]\n",
      "[5, 6, 7, 8, 9, 5, 6, 7, 8, 9, 5, 6, 7, 8, 9]\n"
     ]
    }
   ],
   "source": [
    "a = [1,2,3,4] \n",
    "b = [5,6,7,8,9]\n",
    "c = a + b #concatenation operator\n",
    "print(c)\n",
    "\n",
    "d = b*3 #replication operator\n",
    "print(d)"
   ]
  },
  {
   "cell_type": "markdown",
   "id": "6bcda67b",
   "metadata": {},
   "source": [
    "### Question 9. What is difference between the list methods append() and insert()?"
   ]
  },
  {
   "cell_type": "code",
   "execution_count": null,
   "id": "376d6675",
   "metadata": {},
   "outputs": [],
   "source": [
    "The append() method adds a single item to the end of a \n",
    "list, while the insert() method allows you to add an item\n",
    "at a specific index in the list. For example, mylist.append('new item') \n",
    "would add the string 'new item' to the end of mylist, while mylist.insert(2, 'new item') \n",
    "would add 'new item' at index 2, shifting all the other items to the right."
   ]
  },
  {
   "cell_type": "markdown",
   "id": "273b7646",
   "metadata": {},
   "source": [
    "### Question 10. What are the two methods for removing items from a list? "
   ]
  },
  {
   "cell_type": "markdown",
   "id": "b58b25d5",
   "metadata": {},
   "source": [
    "The two methods for removing items from a list are remove() and pop(). \n",
    " "
   ]
  },
  {
   "cell_type": "markdown",
   "id": "3554c907",
   "metadata": {},
   "source": [
    "### Question 11. Describe how list values and string values are identical."
   ]
  },
  {
   "cell_type": "markdown",
   "id": "4d10233c",
   "metadata": {},
   "source": [
    "List values and string values are similar in the sense that they are both sequences of values. They can be indexed and sliced using the same syntax, and can also be iterated over using a for loop. Additionally, they both support the in and not in operators."
   ]
  },
  {
   "cell_type": "markdown",
   "id": "346fe758",
   "metadata": {},
   "source": [
    "### Question 12: What's the difference between tuples and lists?"
   ]
  },
  {
   "cell_type": "markdown",
   "id": "fa579a73",
   "metadata": {},
   "source": [
    "1.Tuples are immutable, while lists are mutable. Once a tuple is created, its contents cannot be changed. Lists, on the other hand, can have elements added, removed, or modified after creation.\n",
    "\n",
    "2.Tuples are usually used to represent fixed collections of items, while lists are used for more dynamic collections that can change over time."
   ]
  },
  {
   "cell_type": "markdown",
   "id": "b0294fd0",
   "metadata": {},
   "source": [
    "### Question 13. How do you type a tuple value that only contains the integer 42?\n"
   ]
  },
  {
   "cell_type": "code",
   "execution_count": 6,
   "id": "60483663",
   "metadata": {},
   "outputs": [
    {
     "name": "stdout",
     "output_type": "stream",
     "text": [
      "(42,)\n"
     ]
    }
   ],
   "source": [
    "my_tuple = (42,) #The comma after the integer. This is necessary to create a tuple with a single element.\n",
    "print(my_tuple)"
   ]
  },
  {
   "cell_type": "markdown",
   "id": "65c6a593",
   "metadata": {},
   "source": [
    "### Question 14. How do you get a list value's tuple form? How do you get a tuple value's list form?"
   ]
  },
  {
   "cell_type": "code",
   "execution_count": 1,
   "id": "a7a2495c",
   "metadata": {},
   "outputs": [],
   "source": [
    "my_list = [1, 2, 3]\n",
    "my_tuple = tuple(my_list) #By convert a list to a tuple, we can use the tuple() function"
   ]
  },
  {
   "cell_type": "code",
   "execution_count": null,
   "id": "fae7db4a",
   "metadata": {},
   "outputs": [],
   "source": [
    "# my_tuple = (1, 2, 3)\n",
    "my_list = list(my_tuple) # by convert a tuple to a list ,we can use the list() function:\n"
   ]
  },
  {
   "cell_type": "markdown",
   "id": "b6bd239c",
   "metadata": {},
   "source": [
    "### Question 15. Variables that \"contain\" list values are not necessarily lists themselves. Instead, what do they contain? "
   ]
  },
  {
   "cell_type": "markdown",
   "id": "174d1102",
   "metadata": {},
   "source": [
    " Variables that contain list values are actually just references to the list objects. This means that the variable \"contains\" a memory address that points to the location of the list object in memory. The list object itself is a separate entity that can be referenced by multiple variables."
   ]
  },
  {
   "cell_type": "markdown",
   "id": "38f229dc",
   "metadata": {},
   "source": [
    "### Question 16. How do you distinguish between copy.copy() and copy.deepcopy()?"
   ]
  },
  {
   "cell_type": "markdown",
   "id": "c483b273",
   "metadata": {},
   "source": [
    "copy.copy() creates a shallow copy of a list, meaning that it creates a new list object that contains references to the same elements as the original list\n",
    "\n",
    "copy.deepcopy() creates a deep copy of a list, meaning that it creates a new list object and recursively copies all of the elements of the original list, creating new objects for all of the mutable elements. This means that the copy and the original are completely separate and changes to one will not affect the other."
   ]
  },
  {
   "cell_type": "markdown",
   "id": "ff19f154",
   "metadata": {},
   "source": [
    "### Question 17. What does an empty dictionary's code look like? "
   ]
  },
  {
   "cell_type": "code",
   "execution_count": 3,
   "id": "00755576",
   "metadata": {},
   "outputs": [],
   "source": [
    "my_dict = {}\n"
   ]
  },
  {
   "cell_type": "markdown",
   "id": "0884db0e",
   "metadata": {},
   "source": [
    "### Question 18. What is the value of a dictionary value with the key 'foo' and the value 42?"
   ]
  },
  {
   "cell_type": "markdown",
   "id": "732c97ff",
   "metadata": {},
   "source": [
    "The value of a dictionary value with the key 'foo' and the value 42 is 42."
   ]
  },
  {
   "cell_type": "markdown",
   "id": "3e97e2f4",
   "metadata": {},
   "source": [
    "### Question 19. What is the most significant distinction between a dictionary and a list? "
   ]
  },
  {
   "cell_type": "markdown",
   "id": "e8e68403",
   "metadata": {},
   "source": [
    "The most significant distinction between a dictionary and a list is that a dictionary stores values in key-value pairs, whereas a list stores values by their position or index."
   ]
  },
  {
   "cell_type": "markdown",
   "id": "05dee77a",
   "metadata": {},
   "source": [
    "### Question 20. What happens if you try to access spam['foo'] if spam is {'bar': 100}?"
   ]
  },
  {
   "cell_type": "markdown",
   "id": "1e29a3b7",
   "metadata": {},
   "source": [
    "Trying to access spam['foo'] if spam is {'bar': 100} will result in a KeyError, since the key 'foo' does not exist in the dictionary."
   ]
  },
  {
   "cell_type": "markdown",
   "id": "84f57e43",
   "metadata": {},
   "source": [
    "### Question 21. If a dictionary is stored in spam, what is the difference between the expressions 'cat' in spam  and 'cat' in spam.keys()? "
   ]
  },
  {
   "cell_type": "markdown",
   "id": "717465fa",
   "metadata": {},
   "source": [
    "'cat' in spam checks if the value 'cat' exists in any of the dictionary's values, while 'cat' in spam.keys() checks if the key 'cat' exists in the dictionary's keys."
   ]
  },
  {
   "cell_type": "markdown",
   "id": "fab0264a",
   "metadata": {},
   "source": [
    "### Question 22. If a dictionary is stored in spam, what is the difference between the expressions 'cat' in spam  and 'cat' in spam.values()? "
   ]
  },
  {
   "cell_type": "markdown",
   "id": "0543eda3",
   "metadata": {},
   "source": [
    "'cat' in spam checks if the value 'cat' exists in any of the dictionary's values, while 'cat' in spam.values() checks if 'cat' is a value in the dictionary."
   ]
  },
  {
   "cell_type": "markdown",
   "id": "5b1c541c",
   "metadata": {},
   "source": [
    "### Question 23. What is a shortcut for the following code? \n",
    "if 'color' not in spam: \n",
    "spam['color'] = 'black' "
   ]
  },
  {
   "cell_type": "markdown",
   "id": "3c5d338c",
   "metadata": {},
   "source": [
    "A shortcut for the given code is: spam.setdefault('color', 'black'). This sets the value of 'color' to 'black' only if the key 'color' does not already exist in the dictionary."
   ]
  },
  {
   "cell_type": "markdown",
   "id": "d64073c8",
   "metadata": {},
   "source": [
    "### Question 24. How do you \"pretty print\" dictionary values using which module and function?"
   ]
  },
  {
   "cell_type": "markdown",
   "id": "98f80a84",
   "metadata": {},
   "source": [
    "The module and function used for pretty printing dictionary values is pprint.pprint(). It can be used as follows: pprint.pprint(dictionary_variable). This will display the dictionary values in a formatted and readable way."
   ]
  }
 ],
 "metadata": {
  "kernelspec": {
   "display_name": "Python 3 (ipykernel)",
   "language": "python",
   "name": "python3"
  },
  "language_info": {
   "codemirror_mode": {
    "name": "ipython",
    "version": 3
   },
   "file_extension": ".py",
   "mimetype": "text/x-python",
   "name": "python",
   "nbconvert_exporter": "python",
   "pygments_lexer": "ipython3",
   "version": "3.11.2"
  }
 },
 "nbformat": 4,
 "nbformat_minor": 5
}
