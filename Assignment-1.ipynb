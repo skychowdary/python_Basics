{
 "cells": [
  {
   "cell_type": "markdown",
   "id": "27df0453",
   "metadata": {},
   "source": [
    "### Question 1. In the below elements which of them are values or an expression? eg:- values can be integer or  string and expressions will be mathematical operators. \n",
    "*                                                                                                                               \n",
    "‘VGU’ \n",
    "\n",
    "-89.5 \n",
    "\n",
    "-    \n",
    "\n",
    "/   \n",
    "\n",
    "+   \n",
    "\n",
    "6 \n"
   ]
  },
  {
   "cell_type": "markdown",
   "id": "ded31698",
   "metadata": {},
   "source": [
    "ANS-  \n",
    "*(multiplication operator)                                                                                                      \n",
    "‘VGU’ (string)                                                                                                                   \n",
    "-89.5  (floating point number)                                                                                                   \n",
    "-(subtraction operator)                                                                                                         \n",
    "/(division operator)                                                                                                             \n",
    "+(addition operator)                                                                                                             \n",
    "6(value, integer)"
   ]
  },
  {
   "cell_type": "markdown",
   "id": "62082332",
   "metadata": {},
   "source": [
    "### Question 2. What is the difference between string and variable? "
   ]
  },
  {
   "cell_type": "markdown",
   "id": "5701a197",
   "metadata": {},
   "source": [
    "ANS - A string is a sequence of characters, enclosed within single quotes (' ') or double quotes (\" \"). A variable, on the other hand, is a name that refers to a value. It is a way to store and retrieve data in a program. The value of a variable can be a string, number, boolean, or any other data type."
   ]
  },
  {
   "cell_type": "markdown",
   "id": "84b714ea",
   "metadata": {},
   "source": [
    "### Question 3. Describe three different data types. "
   ]
  },
  {
   "cell_type": "markdown",
   "id": "4a5af6b7",
   "metadata": {},
   "source": [
    "ANS - Three different data types are:\n",
    "\n",
    "Integer: It is a whole number without any decimal point, for example, 10.\n",
    "\n",
    "Float: It is a decimal number, for example, 3.14.\n",
    "\n",
    "String: It is a sequence of characters, for example, 'Hello, World!'."
   ]
  },
  {
   "cell_type": "markdown",
   "id": "8822dc2f",
   "metadata": {},
   "source": [
    "### Question 4.  What is an expression made up of? What do all expressions do? \n"
   ]
  },
  {
   "cell_type": "markdown",
   "id": "41fb16cc",
   "metadata": {},
   "source": [
    "ANS - An expression is made up of values, variables, operators, and function calls that evaluate to a single value. All expressions evaluate to a value, which can be a number, string, boolean, or any other data type. Expressions are used to perform calculations, manipulate data, and make decisions in a program."
   ]
  },
  {
   "cell_type": "markdown",
   "id": "5f998aa0",
   "metadata": {},
   "source": [
    "### Question 5. This assignment statements, like spam = 10. What is the difference between an expression and a  statement? \n"
   ]
  },
  {
   "cell_type": "markdown",
   "id": "4612767a",
   "metadata": {},
   "source": [
    "An expression is a combination of values, variables, operators, and function calls that evaluates to a single value. It produces a result that can be used in a statement or as part of a larger expression. A statement, on the other hand, is a line of code that performs an action, such as assigning a value to a variable or printing a message to the console. An expression can be part of a statement, but a statement cannot be part of an expression."
   ]
  },
  {
   "cell_type": "markdown",
   "id": "cfabe287",
   "metadata": {},
   "source": [
    "### Question 6. After running the following code, what does the variable bacon contain? bacon = 22 bacon + 1"
   ]
  },
  {
   "cell_type": "markdown",
   "id": "b60f366b",
   "metadata": {},
   "source": [
    "The variable \"bacon\" will still contain the value 22, because the expression \"bacon + 1\" does not assign the result to a variable. To update the value of \"bacon\", we need to assign the result of the expression to the variable, like this: \"bacon = bacon + 1\" or simply \"bacon += 1\".\n",
    "\n",
    "\n",
    "\n"
   ]
  },
  {
   "cell_type": "markdown",
   "id": "aef2fc4b",
   "metadata": {},
   "source": [
    "### Question 7. What should the values of the following two terms be?\n",
    "'spam' + 'spamspam'\n",
    "\n",
    "'spam' * 3"
   ]
  },
  {
   "cell_type": "markdown",
   "id": "885badfd",
   "metadata": {},
   "source": [
    "The values of both expressions will be the same: 'spamspamspam'. The first expression concatenates two strings, while the second expression repeats the string 'spam' three times."
   ]
  },
  {
   "cell_type": "markdown",
   "id": "9f02c460",
   "metadata": {},
   "source": [
    "### Question 8. Why dorito is a valid variable name while 78 is invalid?"
   ]
  },
  {
   "cell_type": "markdown",
   "id": "1c1bcfe8",
   "metadata": {},
   "source": [
    "Variable names in Python cannot start with a number, so '78' is an invalid variable name. However, variable names can contain letters, numbers, and underscores, and can start with a letter or underscore. Therefore, 'dorito' is a valid variable name."
   ]
  },
  {
   "cell_type": "markdown",
   "id": "1c45286e",
   "metadata": {},
   "source": [
    "### Question 9. What three functions can be used to get the integer, floating-point number, or string version of a value?"
   ]
  },
  {
   "cell_type": "markdown",
   "id": "c6850237",
   "metadata": {},
   "source": [
    "Three functions that can be used to get the integer, floating-point number, or string version of a value are:\n",
    "\n",
    "int(): This function returns the integer version of a value.\n",
    "float(): This function returns the floating-point number version of a value.\n",
    "str(): This"
   ]
  },
  {
   "cell_type": "markdown",
   "id": "bb158e1a",
   "metadata": {},
   "source": [
    "### Question 10. Why does this expression cause an error? How can you fix it? \n",
    "'I have eaten ' + 99 + ' burritos.' "
   ]
  },
  {
   "cell_type": "code",
   "execution_count": 5,
   "id": "4aac4c2f",
   "metadata": {},
   "outputs": [
    {
     "name": "stdout",
     "output_type": "stream",
     "text": [
      "I have eaten 99 burritos.\n"
     ]
    }
   ],
   "source": [
    "#The expression 'I have eaten ' + 99 + ' burritos.' causes an error because you cannot concatenate a string and an integer #directly. To fix this, you can convert the integer to a string using the str() function. The corrected expression would be\n",
    "print('I have eaten ' + '99' + ' burritos.')"
   ]
  },
  {
   "cell_type": "markdown",
   "id": "7ef5de43",
   "metadata": {},
   "source": [
    "### Question 11. Write code that prints Hello if 1 is stored in spam, prints Howdy if 2 is stored in spam, and prints  Greetings! if anything else is stored in spam. "
   ]
  },
  {
   "cell_type": "code",
   "execution_count": 9,
   "id": "6d3dd7b5",
   "metadata": {},
   "outputs": [
    {
     "name": "stdout",
     "output_type": "stream",
     "text": [
      "Greetings!\n"
     ]
    }
   ],
   "source": [
    "spam= 7\n",
    "if spam==1:\n",
    "    print('hello')\n",
    "elif spam==2:\n",
    "    print('hello')\n",
    "else :\n",
    "    print('Greetings!')"
   ]
  },
  {
   "cell_type": "markdown",
   "id": "c3da5b90",
   "metadata": {},
   "source": [
    "### Question 12. If your programme is stuck in an endless loop, what keys you’ll press?  "
   ]
  },
  {
   "cell_type": "markdown",
   "id": "165fc5e0",
   "metadata": {},
   "source": [
    " If your program is stuck in an endless loop, you can press Ctrl + C (on Windows or Linux). "
   ]
  },
  {
   "cell_type": "markdown",
   "id": "f22c068a",
   "metadata": {},
   "source": [
    "### Question 13. How can you tell the difference between break and continue?"
   ]
  },
  {
   "cell_type": "markdown",
   "id": "2871d57d",
   "metadata": {},
   "source": [
    "\"break\" is a keyword that is used to exit out of a loop entirely, while \"continue\" is a keyword that is used to skip over the current iteration of a loop and move on to the next iteration."
   ]
  },
  {
   "cell_type": "markdown",
   "id": "550f940b",
   "metadata": {},
   "source": [
    "### Question 14. In a for loop, what is the difference between range(10), range(0, 10), and range(0, 10, 1)?"
   ]
  },
  {
   "cell_type": "markdown",
   "id": "ac17d16f",
   "metadata": {},
   "source": [
    "In a for loop, range(10) will iterate from 0 to 9, range(0, 10) will also iterate from 0 to 9, and range(0, 10, 1) will also iterate from 0 to 9, but the third argument specifies the step size, which is 1 by default."
   ]
  },
  {
   "cell_type": "markdown",
   "id": "cd510426",
   "metadata": {},
   "source": [
    "### Question 15. Write a short program that prints the numbers 1 to 10 using a for loop. Then write an equivalent  program that prints the numbers 1 to 10 using a while loop. "
   ]
  },
  {
   "cell_type": "code",
   "execution_count": 14,
   "id": "33f3c1cc",
   "metadata": {},
   "outputs": [
    {
     "name": "stdout",
     "output_type": "stream",
     "text": [
      "1\n",
      "2\n",
      "3\n",
      "4\n",
      "5\n",
      "6\n",
      "7\n",
      "8\n",
      "9\n",
      "10\n"
     ]
    }
   ],
   "source": [
    "for i in range (10):\n",
    "    print(i+1)"
   ]
  },
  {
   "cell_type": "code",
   "execution_count": 27,
   "id": "7abb90ed",
   "metadata": {},
   "outputs": [
    {
     "name": "stdout",
     "output_type": "stream",
     "text": [
      "1\n",
      "2\n",
      "3\n",
      "4\n",
      "5\n",
      "6\n",
      "7\n",
      "8\n",
      "9\n",
      "10\n"
     ]
    }
   ],
   "source": [
    "i=1\n",
    "while i <= 10 :\n",
    "    print(i)\n",
    "    i=i+1\n",
    "    "
   ]
  },
  {
   "cell_type": "markdown",
   "id": "9834d248",
   "metadata": {},
   "source": [
    "### Question 16. If you had a function named bacon() inside a module named spam, how would you call it after  importing spam? What statement creates a function? "
   ]
  },
  {
   "cell_type": "code",
   "execution_count": null,
   "id": "263b9e3b",
   "metadata": {},
   "outputs": [],
   "source": [
    "spam.bacon()"
   ]
  },
  {
   "cell_type": "code",
   "execution_count": 31,
   "id": "a8b69999",
   "metadata": {},
   "outputs": [
    {
     "name": "stdout",
     "output_type": "stream",
     "text": [
      "5\n"
     ]
    }
   ],
   "source": [
    "# To create a function, you use the \"def\" keyword followed by the function name, parameters (if any), and a colon. For example:\n",
    "\n",
    "def sum(a,b):\n",
    "    print(a+b)\n",
    "    \n",
    "sum(2,3)"
   ]
  },
  {
   "cell_type": "markdown",
   "id": "a97a6a53",
   "metadata": {},
   "source": [
    "\n",
    "### Question 17. What is the difference between a function and a function call? "
   ]
  },
  {
   "cell_type": "markdown",
   "id": "bb141c8c",
   "metadata": {},
   "source": [
    " A function is a block of code that performs a specific task, while a function call is the code used to invoke the function and pass arguments (if any) to it."
   ]
  },
  {
   "cell_type": "markdown",
   "id": "04fb24cd",
   "metadata": {},
   "source": [
    "### Question 18. How many global scopes are there in a Python program? How many local scopes? Question "
   ]
  },
  {
   "cell_type": "markdown",
   "id": "9e0e44ba",
   "metadata": {},
   "source": [
    "There is only one global scope in a Python program, while there can be multiple local scopes depending on the number of functions defined in the program."
   ]
  },
  {
   "cell_type": "markdown",
   "id": "256a4da1",
   "metadata": {},
   "source": [
    "### 19. What happens to variables in a local scope when the function call returns? Question "
   ]
  },
  {
   "cell_type": "markdown",
   "id": "c501dcf0",
   "metadata": {},
   "source": [
    "When the function call returns, the variables in the local scope are destroyed and their values cannot be accessed outside the function."
   ]
  },
  {
   "cell_type": "markdown",
   "id": "829ad632",
   "metadata": {},
   "source": [
    "### 20. What is the concept of a return value? Is it possible to have a return value in an expression? "
   ]
  },
  {
   "cell_type": "code",
   "execution_count": null,
   "id": "91054112",
   "metadata": {},
   "outputs": [],
   "source": [
    "A return value is the value that a function returns after it has completed its task. Yes, it is possible to have a return value in an expression."
   ]
  },
  {
   "cell_type": "markdown",
   "id": "209306ec",
   "metadata": {},
   "source": [
    "### Question 21. If a function does not have a return statement, what is the return value of a call to that function?"
   ]
  },
  {
   "cell_type": "markdown",
   "id": "bfe79975",
   "metadata": {},
   "source": [
    "A return value is the value that a function returns after it has completed its task. Yes, it is possible to have a return value in an expression."
   ]
  },
  {
   "cell_type": "markdown",
   "id": "74338137",
   "metadata": {},
   "source": [
    "### Question 22. How do you make a function variable refer to the global variable? "
   ]
  },
  {
   "cell_type": "code",
   "execution_count": 36,
   "id": "ab119995",
   "metadata": {},
   "outputs": [
    {
     "name": "stdout",
     "output_type": "stream",
     "text": [
      "20\n"
     ]
    }
   ],
   "source": [
    " # To make a function variable refer to the global variable, you can use the global keyword inside the function followed by the variable name. For example:\n",
    "    \n",
    "x = 10\n",
    "\n",
    "def my_func():\n",
    "    global x\n",
    "    x = 20\n",
    "\n",
    "my_func()\n",
    "print(x) "
   ]
  },
  {
   "cell_type": "markdown",
   "id": "018af8de",
   "metadata": {},
   "source": [
    "### Question 23. What is the data type of None? "
   ]
  },
  {
   "cell_type": "code",
   "execution_count": null,
   "id": "be414360",
   "metadata": {},
   "outputs": [],
   "source": [
    "# The data type of None is NoneType."
   ]
  },
  {
   "cell_type": "markdown",
   "id": "1cbef763",
   "metadata": {},
   "source": [
    "### Question 24. What does the sentence import areallyourpetsnamederic do?"
   ]
  },
  {
   "cell_type": "markdown",
   "id": "a1c2d361",
   "metadata": {},
   "source": [
    "The sentence \"import areallyourpetsnamederic\" does not have any meaningful purpose in Python. It is simply a string of characters that does not correspond to any valid Python syntax."
   ]
  },
  {
   "cell_type": "markdown",
   "id": "3959763a",
   "metadata": {},
   "source": [
    "### Question 25. If you had a bacon() feature in a spam module, what would you call it after importing spam? Question"
   ]
  },
  {
   "cell_type": "markdown",
   "id": "ac6f645e",
   "metadata": {},
   "source": [
    "spam.bacon()"
   ]
  },
  {
   "cell_type": "markdown",
   "id": "44a17e6e",
   "metadata": {},
   "source": [
    "### 26. What can you do to save a programme from crashing if it encounters an error? "
   ]
  },
  {
   "cell_type": "markdown",
   "id": "dada1ef7",
   "metadata": {},
   "source": [
    "To save a program from crashing if it encounters an error, you can use error handling techniques such as try-except blocks or if-else statements to handle the error gracefully and prevent the program from terminating abruptly."
   ]
  },
  {
   "cell_type": "markdown",
   "id": "70b9cb57",
   "metadata": {},
   "source": [
    "### Question 27. What is the purpose of the try clause? What is the purpose of the except clause?"
   ]
  },
  {
   "cell_type": "markdown",
   "id": "81a0fd65",
   "metadata": {},
   "source": [
    "The try clause is used to enclose a block of code that may potentially raise an error, while the except clause is used to specify how the program should handle the error if it occurs. In other words, the try clause is used to test a block of code for errors, while the except clause is used to handle the errors that occur during the execution of the try block."
   ]
  },
  {
   "cell_type": "markdown",
   "id": "4c68ee8e",
   "metadata": {},
   "source": [
    "### Question 28. What exactly is []? "
   ]
  },
  {
   "cell_type": "markdown",
   "id": "e372d756",
   "metadata": {},
   "source": [
    "The square brackets \"[]\" in Python are used to denote an empty list or to enclose a list of values. An empty list is simply a list with no values, denoted by \"[]\". A list of values enclosed in square brackets represents a list of items separated by commas."
   ]
  },
  {
   "cell_type": "markdown",
   "id": "b8272763",
   "metadata": {},
   "source": [
    "### Question 29. In a list of values stored in a variable called spam, how would you assign the value 'hello' as the  third value? (Assume [2, 4, 6, 8, 10] are in spam.) "
   ]
  },
  {
   "cell_type": "markdown",
   "id": "bbe0b2f0",
   "metadata": {},
   "source": [
    " To assign the value 'hello' as the third value in a list of values stored in a variable called spam, you can use the index operator \"[]\" and the assignment operator \"=\" as follows: spam[2] = 'hello'. Assuming that the list [2, 4, 6, 8, 10] is stored in the variable spam, this would change the list to [2, 4, 'hello', 8, 10]."
   ]
  },
  {
   "cell_type": "markdown",
   "id": "1fae7c7f",
   "metadata": {},
   "source": [
    "### Question 30. Let's pretend the spam includes the list ['a', 'b', 'c', 'd'] for the next three queries.\n"
   ]
  },
  {
   "cell_type": "markdown",
   "id": "ca49bed7",
   "metadata": {},
   "source": [
    "a) To retrieve the value 'b' from the list, you can use the index operator \"[]\" as follows: spam[1]. This would return the second item in the list, which is 'b'.\n",
    "b) To change the value of the fourth item in the list to 'spam', you can use the index operator and the assignment operator as follows: spam[3] = 'spam'. This would change the list to ['a', 'b', 'c', 'spam'].\n",
    "c) To remove the value 'c' from the list, you can use the remove() method as follows: spam.remove('c'). This would change the list to ['a', 'b', 'd']."
   ]
  }
 ],
 "metadata": {
  "kernelspec": {
   "display_name": "Python 3 (ipykernel)",
   "language": "python",
   "name": "python3"
  },
  "language_info": {
   "codemirror_mode": {
    "name": "ipython",
    "version": 3
   },
   "file_extension": ".py",
   "mimetype": "text/x-python",
   "name": "python",
   "nbconvert_exporter": "python",
   "pygments_lexer": "ipython3",
   "version": "3.11.2"
  }
 },
 "nbformat": 4,
 "nbformat_minor": 5
}
